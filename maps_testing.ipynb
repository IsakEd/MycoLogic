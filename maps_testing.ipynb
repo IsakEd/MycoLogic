{
 "cells": [
  {
   "cell_type": "code",
   "execution_count": 4,
   "metadata": {},
   "outputs": [],
   "source": [
    "from lib.MapsInstance import MapsInstance\n",
    "import pandas as pd\n",
    "from lib.load_observations import load_observations\n",
    "GMaps = MapsInstance()"
   ]
  },
  {
   "cell_type": "code",
   "execution_count": 5,
   "metadata": {},
   "outputs": [],
   "source": [
    "mushroom_name = \"crispa\"\n",
    "generate = True\n",
    "df = load_observations(f\"observations/{mushroom_name}.csv\")\n"
   ]
  },
  {
   "cell_type": "code",
   "execution_count": 6,
   "metadata": {},
   "outputs": [],
   "source": [
    "columns = ['Latitude', 'Longitude', 'Accuracy']\n",
    "for row in df[columns].itertuples():\n",
    "  if row[3] < 100 and generate:\n",
    "    GMaps.snapshot(row[1], row[2], mushroom_name)"
   ]
  },
  {
   "cell_type": "code",
   "execution_count": null,
   "metadata": {},
   "outputs": [],
   "source": [
    "df = load_observations(f\"observations/sylvaticus.csv\", columns)\n",
    "# print how many rows in df have an 'Accuracy' value less than 100\n",
    "print(len(df))\n",
    "print(len(df[df['Accuracy'] < 100]))"
   ]
  }
 ],
 "metadata": {
  "kernelspec": {
   "display_name": "Python 3",
   "language": "python",
   "name": "python3"
  },
  "language_info": {
   "codemirror_mode": {
    "name": "ipython",
    "version": 3
   },
   "file_extension": ".py",
   "mimetype": "text/x-python",
   "name": "python",
   "nbconvert_exporter": "python",
   "pygments_lexer": "ipython3",
   "version": "3.11.5"
  }
 },
 "nbformat": 4,
 "nbformat_minor": 2
}
